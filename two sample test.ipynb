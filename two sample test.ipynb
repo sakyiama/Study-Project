{
 "cells": [
  {
   "cell_type": "code",
   "execution_count": null,
   "id": "e2aa64b1",
   "metadata": {},
   "outputs": [],
   "source": [
    "from scipy.stats import ks_2samp\n",
    "df = pd.read_csv(\"https://raw.githubusercontent.com/deepanshu88/data/master/data.csv\")\n",
    "ks_2samp(df.loc[df.y==0,\"p\"], df.loc[df.y==1,\"p\"])"
   ]
  }
 ],
 "metadata": {
  "kernelspec": {
   "display_name": "Python 3 (ipykernel)",
   "language": "python",
   "name": "python3"
  },
  "language_info": {
   "codemirror_mode": {
    "name": "ipython",
    "version": 3
   },
   "file_extension": ".py",
   "mimetype": "text/x-python",
   "name": "python",
   "nbconvert_exporter": "python",
   "pygments_lexer": "ipython3",
   "version": "3.9.13"
  }
 },
 "nbformat": 4,
 "nbformat_minor": 5
}
